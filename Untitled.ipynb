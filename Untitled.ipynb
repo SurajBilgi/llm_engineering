{
 "cells": [
  {
   "cell_type": "code",
   "execution_count": null,
   "id": "1e8adadd-bea6-4a20-bd51-ce76ce6ed5cf",
   "metadata": {},
   "outputs": [],
   "source": [
    "import openai\n",
    "import pandas as pd\n",
    "\n",
    "openai.api_key = 'YOUR_API_KEY'  # Replace with your actual API key\n",
    "\n",
    "prompt = \"\"\"\n",
    "Generate 20 rows of synthetic employee data with the following columns:\n",
    "- Name: realistic full names\n",
    "- Dept: randomly selected from ['Engineering', 'HR', 'Marketing', 'Sales', 'Finance']\n",
    "- Salary: integer salary between $50,000 and $150,000\n",
    "\n",
    "Return it in a CSV format (no code, just the CSV content).\n",
    "\"\"\"\n",
    "\n",
    "response = openai.ChatCompletion.create(\n",
    "    model=\"gpt-4\",\n",
    "    messages=[{\"role\": \"user\", \"content\": prompt}],\n",
    "    temperature=0.7\n",
    ")\n",
    "\n",
    "csv_data = response['choices'][0]['message']['content']\n"
   ]
  }
 ],
 "metadata": {
  "kernelspec": {
   "display_name": "Python 3 (ipykernel)",
   "language": "python",
   "name": "python3"
  },
  "language_info": {
   "codemirror_mode": {
    "name": "ipython",
    "version": 3
   },
   "file_extension": ".py",
   "mimetype": "text/x-python",
   "name": "python",
   "nbconvert_exporter": "python",
   "pygments_lexer": "ipython3",
   "version": "3.11.13"
  }
 },
 "nbformat": 4,
 "nbformat_minor": 5
}
