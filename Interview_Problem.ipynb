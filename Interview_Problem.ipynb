{
 "cells": [
  {
   "cell_type": "code",
   "execution_count": null,
   "id": "e88666b4-a93e-46bb-8b87-e767985a5c53",
   "metadata": {},
   "outputs": [],
   "source": [
    "#  Author : Suraj SB\n",
    "# Interview Problem : Write a GPT code to generate a synthetic data"
   ]
  },
  {
   "cell_type": "code",
   "execution_count": 4,
   "id": "db855fa4-692f-47c6-987b-fafd661eca58",
   "metadata": {},
   "outputs": [],
   "source": [
    "from openai import OpenAI\n",
    "import pandas as pd\n",
    "from dotenv import load_dotenv\n",
    "load_dotenv(override=True)\n",
    "\n",
    "openai = OpenAI()"
   ]
  },
  {
   "cell_type": "code",
   "execution_count": 9,
   "id": "51ad5bd9-6214-4d3a-abdc-f7c9aa56d51e",
   "metadata": {},
   "outputs": [],
   "source": [
    "prompt = \"\"\"Generate 100 rows of synthetic data with the following columns:\n",
    "-Name: Random Names\n",
    "-Department: Departments in a Tech team.\n",
    "-Salaries: Salaries ranging from $100k to $200 (in USD)\n",
    "\n",
    "Return it in a CSV format (no code, just the CSV content).\n",
    "\"\"\"\n"
   ]
  },
  {
   "cell_type": "code",
   "execution_count": 10,
   "id": "a1934566-6b15-4b33-8087-0c3ffee08f5a",
   "metadata": {},
   "outputs": [],
   "source": [
    "system_message = \"You are a Synthetic Data Generator\""
   ]
  },
  {
   "cell_type": "code",
   "execution_count": 12,
   "id": "d47b18cd-c99b-43c5-9636-fc33c773941b",
   "metadata": {},
   "outputs": [],
   "source": [
    "messages = [\n",
    "    {\"role\": \"system\", \"content\": system_message},\n",
    "    {\"role\": \"user\", \"content\": prompt}\n",
    "  ]\n",
    "completion = openai.chat.completions.create(\n",
    "    model='gpt-4o-mini',\n",
    "    messages=messages,\n",
    ")"
   ]
  },
  {
   "cell_type": "code",
   "execution_count": 13,
   "id": "912dd67f-256c-40d9-943f-f887b4a2c9a7",
   "metadata": {},
   "outputs": [],
   "source": [
    "csv_data = completion.choices[0].message.content"
   ]
  },
  {
   "cell_type": "code",
   "execution_count": 15,
   "id": "b956ea05-2013-47a4-802d-2828585ce90a",
   "metadata": {},
   "outputs": [
    {
     "name": "stdout",
     "output_type": "stream",
     "text": [
      "                                               ```\n",
      "Name                Department            Salaries\n",
      "Alice Smith         Software Engineering   $145000\n",
      "Bob Johnson         DevOps                 $138000\n",
      "Charlie Brown       Product Management     $152000\n",
      "Diana Prince        Quality Assurance      $120000\n",
      "...                                            ...\n",
      "William Shakespeare Data Analysis          $150000\n",
      "Xander Schauffele   Cloud Services         $176000\n",
      "Yasmine Bleeth      Technical Support      $110000\n",
      "Zelda Fitzgerald    Software Engineering   $148000\n",
      "```                 NaN                        NaN\n",
      "\n",
      "[79 rows x 1 columns]\n"
     ]
    }
   ],
   "source": [
    "from io import StringIO\n",
    "df = pd.read_csv(StringIO(csv_data))\n",
    "print(df)"
   ]
  },
  {
   "cell_type": "code",
   "execution_count": 17,
   "id": "dcff4404-c68f-4de7-ab41-33266a70b0d5",
   "metadata": {},
   "outputs": [
    {
     "data": {
      "text/html": [
       "<div>\n",
       "<style scoped>\n",
       "    .dataframe tbody tr th:only-of-type {\n",
       "        vertical-align: middle;\n",
       "    }\n",
       "\n",
       "    .dataframe tbody tr th {\n",
       "        vertical-align: top;\n",
       "    }\n",
       "\n",
       "    .dataframe thead th {\n",
       "        text-align: right;\n",
       "    }\n",
       "</style>\n",
       "<table border=\"1\" class=\"dataframe\">\n",
       "  <thead>\n",
       "    <tr style=\"text-align: right;\">\n",
       "      <th></th>\n",
       "      <th></th>\n",
       "      <th>```</th>\n",
       "    </tr>\n",
       "  </thead>\n",
       "  <tbody>\n",
       "    <tr>\n",
       "      <th>Name</th>\n",
       "      <th>Department</th>\n",
       "      <td>Salaries</td>\n",
       "    </tr>\n",
       "    <tr>\n",
       "      <th>Alice Smith</th>\n",
       "      <th>Software Engineering</th>\n",
       "      <td>$145000</td>\n",
       "    </tr>\n",
       "    <tr>\n",
       "      <th>Bob Johnson</th>\n",
       "      <th>DevOps</th>\n",
       "      <td>$138000</td>\n",
       "    </tr>\n",
       "    <tr>\n",
       "      <th>Charlie Brown</th>\n",
       "      <th>Product Management</th>\n",
       "      <td>$152000</td>\n",
       "    </tr>\n",
       "    <tr>\n",
       "      <th>Diana Prince</th>\n",
       "      <th>Quality Assurance</th>\n",
       "      <td>$120000</td>\n",
       "    </tr>\n",
       "    <tr>\n",
       "      <th>Ethan Hunt</th>\n",
       "      <th>UI/UX Design</th>\n",
       "      <td>$130000</td>\n",
       "    </tr>\n",
       "    <tr>\n",
       "      <th>Fiona Apple</th>\n",
       "      <th>Data Science</th>\n",
       "      <td>$175000</td>\n",
       "    </tr>\n",
       "    <tr>\n",
       "      <th>George Clark</th>\n",
       "      <th>Network Security</th>\n",
       "      <td>$155000</td>\n",
       "    </tr>\n",
       "    <tr>\n",
       "      <th>Hannah Baker</th>\n",
       "      <th>Technical Support</th>\n",
       "      <td>$110000</td>\n",
       "    </tr>\n",
       "    <tr>\n",
       "      <th>Igor Ivanov</th>\n",
       "      <th>Cloud Engineering</th>\n",
       "      <td>$160000</td>\n",
       "    </tr>\n",
       "    <tr>\n",
       "      <th>Jasmine West</th>\n",
       "      <th>Frontend Development</th>\n",
       "      <td>$142000</td>\n",
       "    </tr>\n",
       "    <tr>\n",
       "      <th>Kevin Lee</th>\n",
       "      <th>Backend Development</th>\n",
       "      <td>$135000</td>\n",
       "    </tr>\n",
       "    <tr>\n",
       "      <th>Laura Nelson</th>\n",
       "      <th>DevOps</th>\n",
       "      <td>$163000</td>\n",
       "    </tr>\n",
       "    <tr>\n",
       "      <th>Michael Scott</th>\n",
       "      <th>Product Management</th>\n",
       "      <td>$150000</td>\n",
       "    </tr>\n",
       "    <tr>\n",
       "      <th>Nina Turner</th>\n",
       "      <th>Software Engineering</th>\n",
       "      <td>$148000</td>\n",
       "    </tr>\n",
       "    <tr>\n",
       "      <th>Oscar Wilde</th>\n",
       "      <th>Data Analysis</th>\n",
       "      <td>$140000</td>\n",
       "    </tr>\n",
       "    <tr>\n",
       "      <th>Paula Parker</th>\n",
       "      <th>Quality Assurance</th>\n",
       "      <td>$125000</td>\n",
       "    </tr>\n",
       "    <tr>\n",
       "      <th>Quinn Fox</th>\n",
       "      <th>UI/UX Design</th>\n",
       "      <td>$132000</td>\n",
       "    </tr>\n",
       "    <tr>\n",
       "      <th>Ryan Adams</th>\n",
       "      <th>Software Engineering</th>\n",
       "      <td>$137000</td>\n",
       "    </tr>\n",
       "    <tr>\n",
       "      <th>Samantha Green</th>\n",
       "      <th>Cloud Services</th>\n",
       "      <td>$178000</td>\n",
       "    </tr>\n",
       "  </tbody>\n",
       "</table>\n",
       "</div>"
      ],
      "text/plain": [
       "                                          ```\n",
       "Name           Department            Salaries\n",
       "Alice Smith    Software Engineering   $145000\n",
       "Bob Johnson    DevOps                 $138000\n",
       "Charlie Brown  Product Management     $152000\n",
       "Diana Prince   Quality Assurance      $120000\n",
       "Ethan Hunt     UI/UX Design           $130000\n",
       "Fiona Apple    Data Science           $175000\n",
       "George Clark   Network Security       $155000\n",
       "Hannah Baker   Technical Support      $110000\n",
       "Igor Ivanov    Cloud Engineering      $160000\n",
       "Jasmine West   Frontend Development   $142000\n",
       "Kevin Lee      Backend Development    $135000\n",
       "Laura Nelson   DevOps                 $163000\n",
       "Michael Scott  Product Management     $150000\n",
       "Nina Turner    Software Engineering   $148000\n",
       "Oscar Wilde    Data Analysis          $140000\n",
       "Paula Parker   Quality Assurance      $125000\n",
       "Quinn Fox      UI/UX Design           $132000\n",
       "Ryan Adams     Software Engineering   $137000\n",
       "Samantha Green Cloud Services         $178000"
      ]
     },
     "execution_count": 17,
     "metadata": {},
     "output_type": "execute_result"
    }
   ],
   "source": [
    "df.head(20)"
   ]
  },
  {
   "cell_type": "code",
   "execution_count": null,
   "id": "bbe993de-897d-4c18-99c8-1bc844331004",
   "metadata": {},
   "outputs": [],
   "source": []
  }
 ],
 "metadata": {
  "kernelspec": {
   "display_name": "Python 3 (ipykernel)",
   "language": "python",
   "name": "python3"
  },
  "language_info": {
   "codemirror_mode": {
    "name": "ipython",
    "version": 3
   },
   "file_extension": ".py",
   "mimetype": "text/x-python",
   "name": "python",
   "nbconvert_exporter": "python",
   "pygments_lexer": "ipython3",
   "version": "3.11.13"
  }
 },
 "nbformat": 4,
 "nbformat_minor": 5
}
