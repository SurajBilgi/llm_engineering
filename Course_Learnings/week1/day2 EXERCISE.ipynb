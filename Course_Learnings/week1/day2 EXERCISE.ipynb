{
 "cells": [
  {
   "cell_type": "markdown",
   "id": "d15d8294-3328-4e07-ad16-8a03e9bbfdb9",
   "metadata": {},
   "source": [
    "# Welcome to your first assignment!\n",
    "\n",
    "Instructions are below. Please give this a try, and look in the solutions folder if you get stuck (or feel free to ask me!)"
   ]
  },
  {
   "cell_type": "markdown",
   "id": "ada885d9-4d42-4d9b-97f0-74fbbbfe93a9",
   "metadata": {},
   "source": [
    "<table style=\"margin: 0; text-align: left;\">\n",
    "    <tr>\n",
    "        <td style=\"width: 150px; height: 150px; vertical-align: middle;\">\n",
    "            <img src=\"../resources.jpg\" width=\"150\" height=\"150\" style=\"display: block;\" />\n",
    "        </td>\n",
    "        <td>\n",
    "            <h2 style=\"color:#f71;\">Just before we get to the assignment --</h2>\n",
    "            <span style=\"color:#f71;\">I thought I'd take a second to point you at this page of useful resources for the course. This includes links to all the slides.<br/>\n",
    "            <a href=\"https://edwarddonner.com/2024/11/13/llm-engineering-resources/\">https://edwarddonner.com/2024/11/13/llm-engineering-resources/</a><br/>\n",
    "            Please keep this bookmarked, and I'll continue to add more useful links there over time.\n",
    "            </span>\n",
    "        </td>\n",
    "    </tr>\n",
    "</table>"
   ]
  },
  {
   "cell_type": "markdown",
   "id": "6e9fa1fc-eac5-4d1d-9be4-541b3f2b3458",
   "metadata": {},
   "source": [
    "# HOMEWORK EXERCISE ASSIGNMENT\n",
    "\n",
    "Upgrade the day 1 project to summarize a webpage to use an Open Source model running locally via Ollama rather than OpenAI\n",
    "\n",
    "You'll be able to use this technique for all subsequent projects if you'd prefer not to use paid APIs.\n",
    "\n",
    "**Benefits:**\n",
    "1. No API charges - open-source\n",
    "2. Data doesn't leave your box\n",
    "\n",
    "**Disadvantages:**\n",
    "1. Significantly less power than Frontier Model\n",
    "\n",
    "## Recap on installation of Ollama\n",
    "\n",
    "Simply visit [ollama.com](https://ollama.com) and install!\n",
    "\n",
    "Once complete, the ollama server should already be running locally.  \n",
    "If you visit:  \n",
    "[http://localhost:11434/](http://localhost:11434/)\n",
    "\n",
    "You should see the message `Ollama is running`.  \n",
    "\n",
    "If not, bring up a new Terminal (Mac) or Powershell (Windows) and enter `ollama serve`  \n",
    "And in another Terminal (Mac) or Powershell (Windows), enter `ollama pull llama3.2`  \n",
    "Then try [http://localhost:11434/](http://localhost:11434/) again.\n",
    "\n",
    "If Ollama is slow on your machine, try using `llama3.2:1b` as an alternative. Run `ollama pull llama3.2:1b` from a Terminal or Powershell, and change the code below from `MODEL = \"llama3.2\"` to `MODEL = \"llama3.2:1b\"`"
   ]
  },
  {
   "cell_type": "code",
   "execution_count": 1,
   "id": "4e2a9393-7767-488e-a8bf-27c12dca35bd",
   "metadata": {},
   "outputs": [],
   "source": [
    "# imports\n",
    "\n",
    "import requests\n",
    "from bs4 import BeautifulSoup\n",
    "from IPython.display import Markdown, display"
   ]
  },
  {
   "cell_type": "code",
   "execution_count": 2,
   "id": "29ddd15d-a3c5-4f4e-a678-873f56162724",
   "metadata": {},
   "outputs": [],
   "source": [
    "# Constants\n",
    "\n",
    "OLLAMA_API = \"http://localhost:11434/api/chat\"\n",
    "HEADERS = {\"Content-Type\": \"application/json\"}\n",
    "MODEL = \"llama3.2\""
   ]
  },
  {
   "cell_type": "code",
   "execution_count": 3,
   "id": "dac0a679-599c-441f-9bf2-ddc73d35b940",
   "metadata": {},
   "outputs": [],
   "source": [
    "# Create a messages list using the same format that we used for OpenAI\n",
    "\n",
    "messages = [\n",
    "    {\"role\": \"user\", \"content\": \"Describe some of the business applications of Generative AI\"}\n",
    "]"
   ]
  },
  {
   "cell_type": "code",
   "execution_count": 4,
   "id": "7bb9c624-14f0-4945-a719-8ddb64f66f47",
   "metadata": {},
   "outputs": [],
   "source": [
    "payload = {\n",
    "        \"model\": MODEL,\n",
    "        \"messages\": messages,\n",
    "        \"stream\": False\n",
    "    }"
   ]
  },
  {
   "cell_type": "code",
   "execution_count": 5,
   "id": "479ff514-e8bd-4985-a572-2ea28bb4fa40",
   "metadata": {},
   "outputs": [
    {
     "name": "stdout",
     "output_type": "stream",
     "text": [
      "\u001b[?2026h\u001b[?25l\u001b[1Gpulling manifest ⠋ \u001b[K\u001b[?25h\u001b[?2026l\u001b[?2026h\u001b[?25l\u001b[1Gpulling manifest ⠙ \u001b[K\u001b[?25h\u001b[?2026l\u001b[?2026h\u001b[?25l\u001b[1Gpulling manifest \u001b[K\n",
      "pulling dde5aa3fc5ff: 100% ▕██████████████████▏ 2.0 GB                         \u001b[K\n",
      "pulling 966de95ca8a6: 100% ▕██████████████████▏ 1.4 KB                         \u001b[K\n",
      "pulling fcc5a6bec9da: 100% ▕██████████████████▏ 7.7 KB                         \u001b[K\n",
      "pulling a70ff7e570d9: 100% ▕██████████████████▏ 6.0 KB                         \u001b[K\n",
      "pulling 56bb8bd477a5: 100% ▕██████████████████▏   96 B                         \u001b[K\n",
      "pulling 34bb5ab01051: 100% ▕██████████████████▏  561 B                         \u001b[K\n",
      "verifying sha256 digest \u001b[K\n",
      "writing manifest \u001b[K\n",
      "success \u001b[K\u001b[?25h\u001b[?2026l\n"
     ]
    }
   ],
   "source": [
    "# Let's just make sure the model is loaded\n",
    "\n",
    "!ollama pull llama3.2"
   ]
  },
  {
   "cell_type": "code",
   "execution_count": 6,
   "id": "42b9f644-522d-4e05-a691-56e7658c0ea9",
   "metadata": {},
   "outputs": [
    {
     "name": "stdout",
     "output_type": "stream",
     "text": [
      "Generative AI has numerous business applications across various industries, including:\n",
      "\n",
      "1. **Content Generation**: AI-powered tools can generate high-quality content such as blog posts, social media posts, product descriptions, and more.\n",
      "2. **Personalized Marketing**: Generative AI can help create personalized customer experiences by generating customized content, offers, and promotions based on individual preferences and behavior.\n",
      "3. **Product Design and Development**: AI can assist in designing new products, such as 3D models, prototypes, and packaging designs, streamlining the product development process.\n",
      "4. **Customer Service Chatbots**: Generative AI-powered chatbots can provide personalized customer support, answer common questions, and route complex issues to human representatives.\n",
      "5. **Image and Video Editing**: AI can automate image and video editing tasks such as removing noise, adjusting brightness and contrast, and adding text or logos.\n",
      "6. **Music Composition**: Generative AI can create original music compositions for various purposes, including advertising, film scores, and video games.\n",
      "7. **Language Translation**: AI-powered tools can generate high-quality translations in multiple languages, improving communication across linguistic and cultural boundaries.\n",
      "8. **Sales Forecasting**: Generative AI models can analyze historical data to forecast sales and revenue, helping businesses make informed decisions about inventory management and pricing.\n",
      "9. **Supply Chain Optimization**: AI can optimize supply chain operations by predicting demand, identifying bottlenecks, and recommending strategies for improvement.\n",
      "10. **Creative Writing**: Generative AI tools can assist writers with ideas, outlines, and even entire drafts of articles, stories, or books.\n",
      "\n",
      "Some examples of companies that have successfully applied generative AI in their business include:\n",
      "\n",
      "* **Content Generation**: WordLift (AI-powered content generation tool) and Content Blossom (AI-driven content creation platform)\n",
      "* **Personalized Marketing**: IBM Watson Personalized Customer Engagement (AI-powered marketing platform)\n",
      "* **Product Design and Development**: Autodesk (AI-assisted product design and development platform)\n",
      "* **Customer Service Chatbots**: IBM Watson Assistant (AI-powered chatbot platform)\n",
      "* **Image and Video Editing**: Adobe Fresco (AI-powered painting and drawing app)\n",
      "\n",
      "These are just a few examples of the many business applications of generative AI. As the technology continues to evolve, we can expect to see even more innovative uses of generative AI in various industries.\n"
     ]
    }
   ],
   "source": [
    "# If this doesn't work for any reason, try the 2 versions in the following cells\n",
    "# And double check the instructions in the 'Recap on installation of Ollama' at the top of this lab\n",
    "# And if none of that works - contact me!\n",
    "\n",
    "response = requests.post(OLLAMA_API, json=payload, headers=HEADERS)\n",
    "print(response.json()['message']['content'])"
   ]
  },
  {
   "cell_type": "markdown",
   "id": "6a021f13-d6a1-4b96-8e18-4eae49d876fe",
   "metadata": {},
   "source": [
    "# Introducing the ollama package\n",
    "\n",
    "And now we'll do the same thing, but using the elegant ollama python package instead of a direct HTTP call.\n",
    "\n",
    "Under the hood, it's making the same call as above to the ollama server running at localhost:11434"
   ]
  },
  {
   "cell_type": "code",
   "execution_count": 7,
   "id": "7745b9c4-57dc-4867-9180-61fa5db55eb8",
   "metadata": {},
   "outputs": [
    {
     "name": "stdout",
     "output_type": "stream",
     "text": [
      "Generative AI has numerous business applications across various industries, including:\n",
      "\n",
      "1. **Content Generation**: Use cases include:\n",
      " * Automated content creation for social media, blogs, and websites.\n",
      " * Personalized product descriptions, product recommendations, and email marketing campaigns.\n",
      " * Generating articles, blog posts, and even entire books.\n",
      "2. **Marketing Automation**: Generative AI can help automate:\n",
      " * Social media posting and scheduling.\n",
      " * Email marketing campaigns with personalized content.\n",
      " * Lead generation and qualification through chatbots and conversational interfaces.\n",
      "3. **Design and Architecture**: Generative AI is used in:\n",
      " * Designing new products, logos, and branding materials.\n",
      " * Architectural design and 3D modeling for buildings, cities, and infrastructure.\n",
      " * Creating custom graphics, icons, and UI elements.\n",
      "4. **Music and Audio Production**: Applications include:\n",
      " * Music composition and generation.\n",
      " * Sound effects creation and editing.\n",
      " * Voiceover and dubbing automation.\n",
      "5. **Data Analysis and Visualization**: Generative AI can help with:\n",
      " * Data visualization and reporting through interactive dashboards.\n",
      " * Predictive analytics for forecasting sales, revenue, and customer behavior.\n",
      " * Identifying trends and patterns in large datasets.\n",
      "6. **Customer Service and Support**: Use cases include:\n",
      " * Chatbots and conversational interfaces for customer support.\n",
      " * Personalized product recommendations and answers to common questions.\n",
      " * Sentiment analysis and emotional intelligence to improve customer service.\n",
      "7. **Innovation and R&D**: Generative AI can help with:\n",
      " * Ideation and concept development through generative design and prototyping.\n",
      " * Identifying new business opportunities and revenue streams.\n",
      " * Automating complex simulations and modeling for product testing and validation.\n",
      "8. **Education and Learning**: Applications include:\n",
      " * Personalized learning platforms with adaptive content generation.\n",
      " * Automated grading and feedback systems.\n",
      " * Intelligent tutoring systems that provide real-time guidance and support.\n",
      "9. **Healthcare and Medical Research**: Generative AI can help with:\n",
      " * Medical image analysis and diagnosis through deep learning and computer vision.\n",
      " * Personalized medicine and targeted therapy development.\n",
      " * Predictive analytics for disease diagnosis, treatment planning, and patient outcomes.\n",
      "10. **Finance and Accounting**: Use cases include:\n",
      " * Automated bookkeeping and accounting through AI-powered spreadsheets.\n",
      " * Financial forecasting and risk assessment using machine learning algorithms.\n",
      " * Identity verification and anti-money laundering (AML) systems.\n",
      "\n",
      "These are just a few examples of the many business applications of Generative AI. As the technology continues to evolve, we can expect to see even more innovative use cases across various industries.\n"
     ]
    }
   ],
   "source": [
    "import ollama\n",
    "\n",
    "response = ollama.chat(model=MODEL, messages=messages)\n",
    "print(response['message']['content'])"
   ]
  },
  {
   "cell_type": "markdown",
   "id": "a4704e10-f5fb-4c15-a935-f046c06fb13d",
   "metadata": {},
   "source": [
    "## Alternative approach - using OpenAI python library to connect to Ollama"
   ]
  },
  {
   "cell_type": "code",
   "execution_count": 8,
   "id": "23057e00-b6fc-4678-93a9-6b31cb704bff",
   "metadata": {},
   "outputs": [
    {
     "name": "stdout",
     "output_type": "stream",
     "text": [
      "Generative AI has a wide range of potential business applications across various industries. Here are some examples:\n",
      "\n",
      "1. **Content Creation**: Generative AI can be used to generate high-quality content such as articles, social media posts, product descriptions, and more. This can help businesses save time and resources while maintaining consistency in tone and style.\n",
      "2. **Product Design**: Generative AI can assist in the design of new products by generating 3D models, architectural designs, and even prototypes. This can help businesses reduce design costs and lead times.\n",
      "3. **Marketing Automation**: Generative AI-powered tools can analyze customer data, preferences, and behaviors to personalize marketing campaigns, improve lead generation, and optimize customer outreach.\n",
      "4. **Customer Service Chatbots**: Generative AI can power chatbots that use natural language processing (NLP) to understand customer queries, provide personalized responses, and route complex issues to human agents.\n",
      "5. **Creative Content Generation for Branded Media**: Generative AI can be used to generate original music, videos, podcasts, and other creative content for businesses looking to establish a unique brand voice or style.\n",
      "6. **Digital Asset Optimization**: Generative AI can help optimize digital assets such as product images, product videos, and blog posts by generating new versions based on changing requirements, trends, and best practices.\n",
      "7. **Predictive Analytics and Forecasting**: Generative AI can be trained on historical data to develop predictive models that forecast future customer behavior, sales, revenue growth, and other business metrics.\n",
      "8. **Automated Data Analysis and Reporting**: Generative AI-powered tools can analyze large datasets, identify patterns, trends, and correlations, and generate reports and insights in an automated manner.\n",
      "9. **Digital Content Localization**: Generative AI can be used to translate content, such as text articles, product descriptions, and social media posts, into multiple languages for global markets.\n",
      "10. **Brand Archiving and Preserving History**: Generative AI-powered tools can help preserve brands' history by generating original photos, images, videos, and other media that match the style of a brand's archives.\n",
      "11. **Customer Journey Mapping**: Generative AI can visualize customer journeys, predict where customers might drop out or need extra support, identify pain points, and provide additional data for decision-making.\n",
      "12. **Digital Transformation and Innovation**: Generative AI-powered tools can simulate different digital scenarios and outcomes to help businesses explore potential risks, opportunities, and innovations.\n",
      "13. **Financial Services and Compliance**: Generative AI can be used in financial services such as risk assessment, credit scoring, tax compliance, regulatory reporting, and audit analysis.\n",
      "14. **Business Decision Support Systems (DSS)**: Generative AI-powered DSS can analyze large amounts of data to provide insights that support business decision-making.\n",
      "15. **Data Quality Control**: Generative AI can help ensure the accuracy and validity of data by checking against external references, testing for consistency, and identifying errors.\n",
      "\n",
      "These are just a few examples of the many potential business applications of generative AI. As the technology continues to evolve, new use cases will emerge across various industries.\n"
     ]
    }
   ],
   "source": [
    "# There's actually an alternative approach that some people might prefer\n",
    "# You can use the OpenAI client python library to call Ollama:\n",
    "\n",
    "from openai import OpenAI\n",
    "ollama_via_openai = OpenAI(base_url='http://localhost:11434/v1', api_key='ollama')\n",
    "\n",
    "response = ollama_via_openai.chat.completions.create(\n",
    "    model=MODEL,\n",
    "    messages=messages\n",
    ")\n",
    "\n",
    "print(response.choices[0].message.content)"
   ]
  },
  {
   "cell_type": "markdown",
   "id": "9f9e22da-b891-41f6-9ac9-bd0c0a5f4f44",
   "metadata": {},
   "source": [
    "## Are you confused about why that works?\n",
    "\n",
    "It seems strange, right? We just used OpenAI code to call Ollama?? What's going on?!\n",
    "\n",
    "Here's the scoop:\n",
    "\n",
    "The python class `OpenAI` is simply code written by OpenAI engineers that makes calls over the internet to an endpoint.  \n",
    "\n",
    "When you call `openai.chat.completions.create()`, this python code just makes a web request to the following url: \"https://api.openai.com/v1/chat/completions\"\n",
    "\n",
    "Code like this is known as a \"client library\" - it's just wrapper code that runs on your machine to make web requests. The actual power of GPT is running on OpenAI's cloud behind this API, not on your computer!\n",
    "\n",
    "OpenAI was so popular, that lots of other AI providers provided identical web endpoints, so you could use the same approach.\n",
    "\n",
    "So Ollama has an endpoint running on your local box at http://localhost:11434/v1/chat/completions  \n",
    "And in week 2 we'll discover that lots of other providers do this too, including Gemini and DeepSeek.\n",
    "\n",
    "And then the team at OpenAI had a great idea: they can extend their client library so you can specify a different 'base url', and use their library to call any compatible API.\n",
    "\n",
    "That's it!\n",
    "\n",
    "So when you say: `ollama_via_openai = OpenAI(base_url='http://localhost:11434/v1', api_key='ollama')`  \n",
    "Then this will make the same endpoint calls, but to Ollama instead of OpenAI."
   ]
  },
  {
   "cell_type": "markdown",
   "id": "bc7d1de3-e2ac-46ff-a302-3b4ba38c4c90",
   "metadata": {},
   "source": [
    "## Also trying the amazing reasoning model DeepSeek\n",
    "\n",
    "Here we use the version of DeepSeek-reasoner that's been distilled to 1.5B.  \n",
    "This is actually a 1.5B variant of Qwen that has been fine-tuned using synethic data generated by Deepseek R1.\n",
    "\n",
    "Other sizes of DeepSeek are [here](https://ollama.com/library/deepseek-r1) all the way up to the full 671B parameter version, which would use up 404GB of your drive and is far too large for most!"
   ]
  },
  {
   "cell_type": "code",
   "execution_count": null,
   "id": "cf9eb44e-fe5b-47aa-b719-0bb63669ab3d",
   "metadata": {},
   "outputs": [],
   "source": [
    "!ollama pull deepseek-r1:1.5b"
   ]
  },
  {
   "cell_type": "code",
   "execution_count": null,
   "id": "1d3d554b-e00d-4c08-9300-45e073950a76",
   "metadata": {},
   "outputs": [],
   "source": [
    "# This may take a few minutes to run! You should then see a fascinating \"thinking\" trace inside <think> tags, followed by some decent definitions\n",
    "\n",
    "response = ollama_via_openai.chat.completions.create(\n",
    "    model=\"deepseek-r1:1.5b\",\n",
    "    messages=[{\"role\": \"user\", \"content\": \"Please give definitions of some core concepts behind LLMs: a neural network, attention and the transformer\"}]\n",
    ")\n",
    "\n",
    "print(response.choices[0].message.content)"
   ]
  },
  {
   "cell_type": "markdown",
   "id": "1622d9bb-5c68-4d4e-9ca4-b492c751f898",
   "metadata": {},
   "source": [
    "# NOW the exercise for you\n",
    "\n",
    "Take the code from day1 and incorporate it here, to build a website summarizer that uses Llama 3.2 running locally instead of OpenAI; use either of the above approaches."
   ]
  },
  {
   "cell_type": "code",
   "execution_count": null,
   "id": "6de38216-6d1c-48c4-877b-86d403f4e0f8",
   "metadata": {},
   "outputs": [],
   "source": []
  }
 ],
 "metadata": {
  "kernelspec": {
   "display_name": "Python 3 (ipykernel)",
   "language": "python",
   "name": "python3"
  },
  "language_info": {
   "codemirror_mode": {
    "name": "ipython",
    "version": 3
   },
   "file_extension": ".py",
   "mimetype": "text/x-python",
   "name": "python",
   "nbconvert_exporter": "python",
   "pygments_lexer": "ipython3",
   "version": "3.11.13"
  }
 },
 "nbformat": 4,
 "nbformat_minor": 5
}
